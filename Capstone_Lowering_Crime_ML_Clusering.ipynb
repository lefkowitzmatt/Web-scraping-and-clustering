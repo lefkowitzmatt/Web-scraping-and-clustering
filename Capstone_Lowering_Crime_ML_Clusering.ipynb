{
 "cells": [
  {
   "cell_type": "markdown",
   "metadata": {},
   "source": [
    "### Lowering the crime rate in St. Louis Missouri with Machine Learning"
   ]
  },
  {
   "cell_type": "markdown",
   "metadata": {},
   "source": [
    "#### Business Problem"
   ]
  },
  {
   "cell_type": "markdown",
   "metadata": {},
   "source": [
    "Every city wants to find ways to lower their crime rate. Once such way might be to regulate the types of businesses that populate each neighborhood. The core concept rooted in this idea is that the types of venues in a neighborhood can have an impact on crime. The goal will be to determine if St Louis neighborhoods with a higher crime rate have a similar combination of businesses so that city officials can take appropriate action with regulations and make the city safer. In order to accomplish this, the neighborhoods in St. Louis will be clustered using machine learning methods from data on crime and business type. The clusters will then be analyzed to determine the key factors associated in neighborhoods with higher versus lower crime rates."
   ]
  },
  {
   "cell_type": "markdown",
   "metadata": {},
   "source": [
    "#### Data"
   ]
  },
  {
   "cell_type": "markdown",
   "metadata": {},
   "source": [
    "The data that will be used to execute this project is publicly available crime data from St. Louis Missouri, along with data via Foursquare API on the venues in the neighborhoods in Missouri. The crime data will contain all recorded crimes over the past year from November 2018 to November 2019. The datasets will be combined to show the different business types in the neighborhoods and the total number of recorded crimes per neighborhood. Once the dataset is prepared, machine learning clustering will be used to cluster the neighborhoods and further analysis will be applied to the clusters."
   ]
  }
 ],
 "metadata": {
  "kernelspec": {
   "display_name": "Python",
   "language": "python",
   "name": "conda-env-python-py"
  },
  "language_info": {
   "codemirror_mode": {
    "name": "ipython",
    "version": 3
   },
   "file_extension": ".py",
   "mimetype": "text/x-python",
   "name": "python",
   "nbconvert_exporter": "python",
   "pygments_lexer": "ipython3",
   "version": "3.6.7"
  }
 },
 "nbformat": 4,
 "nbformat_minor": 4
}
